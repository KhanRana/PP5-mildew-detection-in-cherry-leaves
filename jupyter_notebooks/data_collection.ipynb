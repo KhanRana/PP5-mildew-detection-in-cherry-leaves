{
 "cells": [
  {
   "cell_type": "markdown",
   "metadata": {
    "id": "0aStgWSO0E0E"
   },
   "source": [
    "# **Data Collection, Cleaning and Preparation**"
   ]
  },
  {
   "cell_type": "markdown",
   "metadata": {
    "id": "1eLEkw5O0ECa"
   },
   "source": [
    "## Objectives\n",
    "\n",
    "* Fetch data from Kaggle, Clean it, and Split it into training, testing, and validation folders.\n",
    "\n",
    "## Inputs\n",
    "\n",
    "*   Kaggle JSON file - the authentication token. \n",
    "\n",
    "## Outputs\n",
    "\n",
    "* Generate dataset into inputs/dataset/cherry_leaves\n",
    "\n",
    "## Additional Comments\n",
    "\n",
    "*  \n",
    "\n"
   ]
  },
  {
   "cell_type": "markdown",
   "metadata": {
    "id": "9uWZXH9LwoQg"
   },
   "source": [
    "---"
   ]
  },
  {
   "cell_type": "markdown",
   "metadata": {
    "id": "cqP-UeN-z3i2"
   },
   "source": [
    "# Change working directory"
   ]
  },
  {
   "cell_type": "markdown",
   "metadata": {},
   "source": [
    "* The notebooks are in a subfolder, therefore when running the notebook in the editor, I will change the path to the parent folder."
   ]
  },
  {
   "cell_type": "markdown",
   "metadata": {
    "id": "aOGIGS-uz3i2"
   },
   "source": [
    "We need to change the working directory from its current folder to its parent folder\n",
    "* We access the current directory with os.getcwd()"
   ]
  },
  {
   "cell_type": "code",
   "execution_count": 23,
   "metadata": {
    "id": "wZfF_j-Bz3i4",
    "outputId": "66943449-1436-4c3d-85c7-b85f9f78349b"
   },
   "outputs": [],
   "source": [
    "import os\n",
    "import numpy as np"
   ]
  },
  {
   "cell_type": "code",
   "execution_count": 24,
   "metadata": {},
   "outputs": [
    {
     "data": {
      "text/plain": [
       "'/Users/rana/Documents/artificial_intelligence/PP5-mildew-detection-in-cherry-leaves'"
      ]
     },
     "execution_count": 24,
     "metadata": {},
     "output_type": "execute_result"
    }
   ],
   "source": [
    "current_dir = os.getcwd()\n",
    "current_dir"
   ]
  },
  {
   "cell_type": "markdown",
   "metadata": {
    "id": "9MWW8E7lz3i7"
   },
   "source": [
    "We want to make the parent of the current directory the new current directory\n",
    "* os.path.dirname() gets the parent directory\n",
    "* os.chir() defines the new current directory"
   ]
  },
  {
   "cell_type": "code",
   "execution_count": 28,
   "metadata": {
    "id": "TwHsQRWjz3i9",
    "outputId": "86849db3-cd2f-4cc5-ebb8-2d0caafa1a2c"
   },
   "outputs": [
    {
     "name": "stdout",
     "output_type": "stream",
     "text": [
      "I have set a new current directory to the home folder\n"
     ]
    }
   ],
   "source": [
    "os.chdir('/Users/rana/Documents/artificial_intelligence/PP5-mildew-detection-in-cherry-leaves')\n",
    "print(\"I have set a new current directory to the home folder\")"
   ]
  },
  {
   "cell_type": "markdown",
   "metadata": {
    "id": "M_xPk_Ijz3i-"
   },
   "source": [
    "Confirm the new current directory"
   ]
  },
  {
   "cell_type": "code",
   "execution_count": 29,
   "metadata": {
    "id": "vz3S-_kjz3jA",
    "outputId": "00b79ae4-75d0-4a96-d193-ac9ef9847ea2"
   },
   "outputs": [
    {
     "data": {
      "text/plain": [
       "'/Users/rana/Documents/artificial_intelligence/PP5-mildew-detection-in-cherry-leaves'"
      ]
     },
     "execution_count": 29,
     "metadata": {},
     "output_type": "execute_result"
    }
   ],
   "source": [
    "current_dir = os.getcwd()\n",
    "current_dir"
   ]
  },
  {
   "cell_type": "markdown",
   "metadata": {
    "id": "-mavJ8DibrcQ"
   },
   "source": [
    "# Data Collection"
   ]
  },
  {
   "cell_type": "markdown",
   "metadata": {},
   "source": [
    "## Installing Kaggle"
   ]
  },
  {
   "cell_type": "code",
   "execution_count": 18,
   "metadata": {},
   "outputs": [
    {
     "name": "stdout",
     "output_type": "stream",
     "text": [
      "Requirement already satisfied: kaggle==1.5.12 in ./artificial_intelligence/PP5-mildew-detection-in-cherry-leaves/venv/lib/python3.9/site-packages (1.5.12)\n",
      "Requirement already satisfied: six>=1.10 in ./artificial_intelligence/PP5-mildew-detection-in-cherry-leaves/venv/lib/python3.9/site-packages (from kaggle==1.5.12) (1.16.0)\n",
      "Requirement already satisfied: certifi in ./artificial_intelligence/PP5-mildew-detection-in-cherry-leaves/venv/lib/python3.9/site-packages (from kaggle==1.5.12) (2023.7.22)\n",
      "Requirement already satisfied: python-dateutil in ./artificial_intelligence/PP5-mildew-detection-in-cherry-leaves/venv/lib/python3.9/site-packages (from kaggle==1.5.12) (2.8.2)\n",
      "Requirement already satisfied: requests in ./artificial_intelligence/PP5-mildew-detection-in-cherry-leaves/venv/lib/python3.9/site-packages (from kaggle==1.5.12) (2.31.0)\n",
      "Requirement already satisfied: tqdm in ./artificial_intelligence/PP5-mildew-detection-in-cherry-leaves/venv/lib/python3.9/site-packages (from kaggle==1.5.12) (4.66.1)\n",
      "Requirement already satisfied: python-slugify in ./artificial_intelligence/PP5-mildew-detection-in-cherry-leaves/venv/lib/python3.9/site-packages (from kaggle==1.5.12) (8.0.1)\n",
      "Requirement already satisfied: urllib3 in ./artificial_intelligence/PP5-mildew-detection-in-cherry-leaves/venv/lib/python3.9/site-packages (from kaggle==1.5.12) (2.0.4)\n",
      "Requirement already satisfied: text-unidecode>=1.3 in ./artificial_intelligence/PP5-mildew-detection-in-cherry-leaves/venv/lib/python3.9/site-packages (from python-slugify->kaggle==1.5.12) (1.3)\n",
      "Requirement already satisfied: charset-normalizer<4,>=2 in ./artificial_intelligence/PP5-mildew-detection-in-cherry-leaves/venv/lib/python3.9/site-packages (from requests->kaggle==1.5.12) (3.2.0)\n",
      "Requirement already satisfied: idna<4,>=2.5 in ./artificial_intelligence/PP5-mildew-detection-in-cherry-leaves/venv/lib/python3.9/site-packages (from requests->kaggle==1.5.12) (3.4)\n"
     ]
    }
   ],
   "source": [
    "! pip install kaggle==1.5.12"
   ]
  },
  {
   "cell_type": "markdown",
   "metadata": {
    "id": "ZY3l0-AxO93d"
   },
   "source": [
    "---"
   ]
  },
  {
   "cell_type": "markdown",
   "metadata": {},
   "source": [
    "Download kaggle api token and Setting authentication for kaggle JSON file"
   ]
  },
  {
   "cell_type": "code",
   "execution_count": 30,
   "metadata": {},
   "outputs": [],
   "source": [
    "os.environ['KAGGLE_CONFIG_DIR'] = os.getcwd()\n",
    "! chmod 600 kaggle.json"
   ]
  },
  {
   "cell_type": "markdown",
   "metadata": {},
   "source": [
    "Setting Kaggle dataset and downloading it"
   ]
  },
  {
   "cell_type": "code",
   "execution_count": 21,
   "metadata": {},
   "outputs": [
    {
     "name": "stdout",
     "output_type": "stream",
     "text": [
      "cherry-leaves.zip: Skipping, found more recently modified local copy (use --force to force download)\n"
     ]
    }
   ],
   "source": [
    "KaggleDatasetPath = \"codeinstitute/cherry-leaves\"\n",
    "DestinationFolder = \"inputs/cherry_dataset\"\n",
    "! kaggle datasets download -d {KaggleDatasetPath} -p {DestinationFolder}"
   ]
  },
  {
   "cell_type": "markdown",
   "metadata": {},
   "source": [
    "Unzipping the data and deleting the zipped data folder"
   ]
  },
  {
   "cell_type": "code",
   "execution_count": 31,
   "metadata": {},
   "outputs": [],
   "source": [
    "import zipfile\n",
    "with zipfile.ZipFile(DestinationFolder + '/cherry-leaves.zip', 'r') as zip_ref:\n",
    "    zip_ref.extractall(DestinationFolder)\n",
    "\n",
    "os.remove(DestinationFolder + '/cherry-leaves.zip')"
   ]
  },
  {
   "cell_type": "markdown",
   "metadata": {
    "id": "uFQo3ycuO-v6"
   },
   "source": [
    "# Data Cleaning and Preparation"
   ]
  },
  {
   "cell_type": "markdown",
   "metadata": {},
   "source": [
    "## Data Cleaning"
   ]
  },
  {
   "cell_type": "markdown",
   "metadata": {},
   "source": [
    "Checking the data for any non-images files and discard if present"
   ]
  },
  {
   "cell_type": "code",
   "execution_count": 32,
   "metadata": {},
   "outputs": [],
   "source": [
    "def remove_non_image_file(data_dir):\n",
    "    image_extension = ('.png', '.jpg', '.jpeg')\n",
    "    folders = os.listdir(data_dir)\n",
    "    for folder in folders:\n",
    "        files = os.listdir(data_dir + '/' + folder)\n",
    "        # print(files)\n",
    "        i = []\n",
    "        j = []\n",
    "        for given_file in files:\n",
    "            if not given_file.lower().endswith(image_extension):\n",
    "                file_location = data_dir + '/' + folder + '/' + given_file\n",
    "                os.remove(file_location)  # remove non-image file\n",
    "                i.append(1)\n",
    "            else:\n",
    "                j.append(1)\n",
    "                pass\n",
    "        print(f\"Folder: {folder} - has image file\", len(j))\n",
    "        print(f\"Folder: {folder} - has non-image file\", len(i))"
   ]
  },
  {
   "cell_type": "code",
   "execution_count": 34,
   "metadata": {},
   "outputs": [
    {
     "name": "stdout",
     "output_type": "stream",
     "text": [
      "Folder: powdery_mildew - has image file 2104\n",
      "Folder: powdery_mildew - has non-image file 0\n",
      "Folder: healthy - has image file 2104\n",
      "Folder: healthy - has non-image file 0\n"
     ]
    }
   ],
   "source": [
    "remove_non_image_file(data_dir='inputs/cherry_dataset/cherry-leaves')"
   ]
  },
  {
   "cell_type": "markdown",
   "metadata": {},
   "source": [
    "## Data Preparation"
   ]
  },
  {
   "cell_type": "markdown",
   "metadata": {},
   "source": [
    "---"
   ]
  },
  {
   "cell_type": "markdown",
   "metadata": {},
   "source": [
    "Splitting data into train, test and validation"
   ]
  },
  {
   "cell_type": "code",
   "execution_count": 35,
   "metadata": {},
   "outputs": [],
   "source": [
    "import os\n",
    "import shutil\n",
    "import random\n",
    "import joblib\n",
    "\n",
    "\n",
    "def split_train_valid_test_images(data_dir, train_set_ratio, validation_set_ratio, test_set_ratio):\n",
    "\n",
    "    if train_set_ratio + validation_set_ratio + test_set_ratio != 1.0:\n",
    "        print(\"train_set_ratio + validation_set_ratio + test_set_ratio should sum to 1.0\")\n",
    "        return\n",
    "\n",
    "    # gets classes labels\n",
    "    labels = os.listdir(data_dir)  # it should get only the folder name\n",
    "    if 'test' in labels:\n",
    "        pass\n",
    "    else:\n",
    "        # create train, test folders with classes labels sub-folder\n",
    "        for folder in ['train', 'validation', 'test']:\n",
    "            for label in labels:\n",
    "                os.makedirs(name=data_dir + '/' + folder + '/' + label)\n",
    "\n",
    "        for label in labels:\n",
    "\n",
    "            files = os.listdir(data_dir + '/' + label)\n",
    "            random.shuffle(files)\n",
    "\n",
    "            train_set_files_qty = int(len(files) * train_set_ratio)\n",
    "            validation_set_files_qty = int(len(files) * validation_set_ratio)\n",
    "\n",
    "            count = 1\n",
    "            for file_name in files:\n",
    "                if count <= train_set_files_qty:\n",
    "                    # move a given file to the train set\n",
    "                    shutil.move(data_dir + '/' + label + '/' + file_name,\n",
    "                                data_dir + '/train/' + label + '/' + file_name)\n",
    "\n",
    "                elif count <= (train_set_files_qty + validation_set_files_qty):\n",
    "                    # move a given file to the validation set\n",
    "                    shutil.move(data_dir + '/' + label + '/' + file_name,\n",
    "                                data_dir + '/validation/' + label + '/' + file_name)\n",
    "\n",
    "                else:\n",
    "                    # move given file to test set\n",
    "                    shutil.move(data_dir + '/' + label + '/' + file_name,\n",
    "                                data_dir + '/test/' + label + '/' + file_name)\n",
    "\n",
    "                count += 1\n",
    "\n",
    "            os.rmdir(data_dir + '/' + label)"
   ]
  },
  {
   "cell_type": "markdown",
   "metadata": {},
   "source": [
    "The data is split as following\n",
    "train: 70%\n",
    "testing: 20%\n",
    "validation: 10%\n"
   ]
  },
  {
   "cell_type": "code",
   "execution_count": 36,
   "metadata": {},
   "outputs": [],
   "source": [
    "split_train_valid_test_images(data_dir=f\"inputs/cherry_dataset/cherry-leaves\",\n",
    "                                   train_set_ratio=0.7,\n",
    "                                   test_set_ratio=0.2,\n",
    "                                   validation_set_ratio=0.1\n",
    "                                   \n",
    "                                   )"
   ]
  },
  {
   "cell_type": "markdown",
   "metadata": {},
   "source": [
    "---"
   ]
  },
  {
   "cell_type": "markdown",
   "metadata": {
    "id": "ltNetd085qHf"
   },
   "source": [
    "# Conclusions"
   ]
  },
  {
   "cell_type": "markdown",
   "metadata": {},
   "source": [
    "The data have successfully been downloaded from kaggle, cleaned and split into train, test, and validation folder for further processing and devvelopmen"
   ]
  }
 ],
 "metadata": {
  "accelerator": "GPU",
  "colab": {
   "name": "Data Practitioner Jupyter Notebook.ipynb",
   "provenance": [],
   "toc_visible": true
  },
  "interpreter": {
   "hash": "8b8334dab9339717f727a1deaf837b322d7a41c20d15cc86be99a8e69ceec8ce"
  },
  "kernelspec": {
   "display_name": "Python 3 (ipykernel)",
   "language": "python",
   "name": "python3"
  },
  "language_info": {
   "codemirror_mode": {
    "name": "ipython",
    "version": 3
   },
   "file_extension": ".py",
   "mimetype": "text/x-python",
   "name": "python",
   "nbconvert_exporter": "python",
   "pygments_lexer": "ipython3",
   "version": "3.9.1"
  }
 },
 "nbformat": 4,
 "nbformat_minor": 4
}
